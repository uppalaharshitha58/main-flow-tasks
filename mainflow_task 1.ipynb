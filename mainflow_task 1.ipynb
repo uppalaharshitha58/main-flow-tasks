{
 "cells": [
  {
   "cell_type": "code",
   "execution_count": 6,
   "id": "34be3d7e",
   "metadata": {},
   "outputs": [
    {
     "name": "stdout",
     "output_type": "stream",
     "text": [
      "\n",
      "initial list: [1, 2, 3, 4, 5]\n",
      "list after adding element: [1, 2, 3, 4, 5, 6]\n",
      "list after removing element [1, 2, 4, 5, 6]\n",
      "list after modifying an element [1, 2, 58, 5, 6]\n",
      "Updated List: [1, 2, 58, 5, 6]\n"
     ]
    }
   ],
   "source": [
    "# Creating a list\n",
    "my_list = [1, 2, 3, 4, 5]\n",
    "print(\"\\ninitial list:\",my_list)\n",
    "\n",
    "# Adding elements to the list\n",
    "my_list.append(6)\n",
    "print(\"list after adding element:\",my_list)\n",
    "\n",
    "# Removing an element from the list\n",
    "my_list.remove(3)\n",
    "print(\"list after removing element\",my_list)\n",
    "\n",
    "# Modifying an element in the list\n",
    "my_list[2] = 58\n",
    "print(\"list after modifying an element\",my_list)\n",
    "\n",
    "print(\"Updated List:\", my_list)"
   ]
  },
  {
   "cell_type": "code",
   "execution_count": 4,
   "id": "f68fecc1",
   "metadata": {},
   "outputs": [
    {
     "name": "stdout",
     "output_type": "stream",
     "text": [
      "\n",
      "initial dict: {'name': 'john', 'age': 30, 'city': 'Hyderabad'}\n",
      "dict after adding element: {'name': 'john', 'age': 30, 'city': 'Hyderabad', 'gender': 'Male'}\n",
      "dict after removing element: {'name': 'john', 'city': 'Hyderabad', 'gender': 'Male'}\n",
      "dict after modifying element: {'name': 'john', 'city': 'pune', 'gender': 'Male'}\n",
      "Updated Dictionary: {'name': 'john', 'city': 'pune', 'gender': 'Male'}\n"
     ]
    }
   ],
   "source": [
    "# Creating a dictionary\n",
    "my_dict = {'name': 'john', 'age': 30, 'city': 'Hyderabad'}\n",
    "print(\"\\ninitial dict:\",my_dict)\n",
    "\n",
    "# Adding elements to the dictionary\n",
    "my_dict['gender'] = 'Male'\n",
    "print(\"dict after adding element:\",my_dict)\n",
    "\n",
    "# Removing an element from the dictionary\n",
    "my_dict.pop('age')\n",
    "print(\"dict after removing element:\",my_dict)\n",
    "\n",
    "# Modifying an element in the dictionary\n",
    "my_dict['city'] = 'pune'\n",
    "print(\"dict after modifying element:\",my_dict)\n",
    "\n",
    "print(\"Updated Dictionary:\", my_dict)"
   ]
  },
  {
   "cell_type": "code",
   "execution_count": 5,
   "id": "9635ce5b",
   "metadata": {},
   "outputs": [
    {
     "name": "stdout",
     "output_type": "stream",
     "text": [
      "\n",
      "initial set: {1, 3, 75, 12, 44}\n",
      "set after adding element: {1, 3, 6, 75, 12, 44}\n",
      "set after removing element: {1, 6, 75, 12, 44}\n",
      "set after modifying element: {1, 6, 75, 12, 45}\n",
      "Updated Set: {1, 6, 75, 12, 45}\n"
     ]
    }
   ],
   "source": [
    "# Creating a set\n",
    "my_set = {1, 12, 3, 44, 75}\n",
    "print(\"\\ninitial set:\",my_set)\n",
    "\n",
    "# Adding elements to the set\n",
    "my_set.add(6)\n",
    "print(\"set after adding element:\",my_set)\n",
    "\n",
    "# Removing an element from the set\n",
    "my_set.remove(3)\n",
    "print(\"set after removing element:\",my_set)\n",
    "\n",
    "# Modifying elements in a set involves removing the element and adding the modified element\n",
    "my_set.remove(44)\n",
    "my_set.add(45)\n",
    "print(\"set after modifying element:\",my_set)\n",
    "\n",
    "print(\"Updated Set:\", my_set)"
   ]
  },
  {
   "cell_type": "code",
   "execution_count": null,
   "id": "9bb17416",
   "metadata": {},
   "outputs": [],
   "source": []
  },
  {
   "cell_type": "code",
   "execution_count": null,
   "id": "799a70da",
   "metadata": {},
   "outputs": [],
   "source": []
  }
 ],
 "metadata": {
  "kernelspec": {
   "display_name": "Python 3 (ipykernel)",
   "language": "python",
   "name": "python3"
  },
  "language_info": {
   "codemirror_mode": {
    "name": "ipython",
    "version": 3
   },
   "file_extension": ".py",
   "mimetype": "text/x-python",
   "name": "python",
   "nbconvert_exporter": "python",
   "pygments_lexer": "ipython3",
   "version": "3.11.4"
  }
 },
 "nbformat": 4,
 "nbformat_minor": 5
}
